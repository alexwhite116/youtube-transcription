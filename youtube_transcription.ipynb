{
  "nbformat": 4,
  "nbformat_minor": 0,
  "metadata": {
    "colab": {
      "provenance": [],
      "authorship_tag": "ABX9TyOPvyFQc3LQXHsHP/pI/Gmx",
      "include_colab_link": true
    },
    "kernelspec": {
      "name": "python3",
      "display_name": "Python 3"
    },
    "language_info": {
      "name": "python"
    }
  },
  "cells": [
    {
      "cell_type": "markdown",
      "metadata": {
        "id": "view-in-github",
        "colab_type": "text"
      },
      "source": [
        "<a href=\"https://colab.research.google.com/github/alexwhite116/youtube-transcription/blob/main/youtube_transcription.ipynb\" target=\"_parent\"><img src=\"https://colab.research.google.com/assets/colab-badge.svg\" alt=\"Open In Colab\"/></a>"
      ]
    },
    {
      "cell_type": "markdown",
      "source": [
        "# YouTube Transcription Project\n",
        "\n",
        "This notebook looks to achieve the following:\n",
        "1. Create/implement a model to transcribe a YouTube video given a link and store the transcription.\n",
        "2. (Stretch) Implement a search function to enter text and return the most relevant video link based on its transcription.\n",
        "3. (Stretch) Implement a summary of videos retrieved via the search function, also presenting the video title and thumbnail.\n",
        "4. (Stretch) Implement automation for a specific streamer so that transcriptions/summaries of all of their content are available (and searchable).\n",
        "5. Deploy the above as part of a Gradio app (stretch goals optional/iterative)."
      ],
      "metadata": {
        "id": "4OcF0KEnMwP8"
      }
    },
    {
      "cell_type": "code",
      "execution_count": null,
      "metadata": {
        "id": "bK8iuHUVMDAh"
      },
      "outputs": [],
      "source": []
    }
  ]
}