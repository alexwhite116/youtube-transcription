{
  "nbformat": 4,
  "nbformat_minor": 0,
  "metadata": {
    "colab": {
      "provenance": [],
      "authorship_tag": "ABX9TyPdryawGtRCtjDfb+Sjq979",
      "include_colab_link": true
    },
    "kernelspec": {
      "name": "python3",
      "display_name": "Python 3"
    },
    "language_info": {
      "name": "python"
    }
  },
  "cells": [
    {
      "cell_type": "markdown",
      "metadata": {
        "id": "view-in-github",
        "colab_type": "text"
      },
      "source": [
        "<a href=\"https://colab.research.google.com/github/alexwhite116/youtube-transcription/blob/main/youtube_transcription.ipynb\" target=\"_parent\"><img src=\"https://colab.research.google.com/assets/colab-badge.svg\" alt=\"Open In Colab\"/></a>"
      ]
    },
    {
      "cell_type": "markdown",
      "source": [
        "# YouTube Transcription Project\n",
        "\n",
        "This notebook looks to achieve the following:\n",
        "1. Create/implement a model to transcribe a YouTube video given a link and store the transcription.\n",
        "2. (Stretch) Implement a search function to enter text and return the most relevant video link based on its transcription.\n",
        "3. (Stretch) Implement a summary of videos retrieved via the search function, also presenting the video title and thumbnail.\n",
        "4. (Stretch) Implement automation for a specific streamer so that transcriptions/summaries of all of their content are available (and searchable).\n",
        "5. Deploy the above as part of a Gradio app (stretch goals optional/iterative)."
      ],
      "metadata": {
        "id": "4OcF0KEnMwP8"
      }
    },
    {
      "cell_type": "markdown",
      "source": [
        "## Imports\n",
        "\n",
        "We import `torch`, `torchaudio` and `pytube`\n",
        "\n",
        "\n",
        "*   `torch`: For machine learning model implementation\n",
        "  *   `torchaudio`: We will be working with the audio of the videos for transcription\n",
        "*   `pytube`: To enable us to work with YouTube streams\n",
        "\n"
      ],
      "metadata": {
        "id": "AGCMMHv80gxl"
      }
    },
    {
      "cell_type": "code",
      "execution_count": 3,
      "metadata": {
        "id": "bK8iuHUVMDAh",
        "outputId": "66a48947-3e28-43a3-8dad-f7b49518484c",
        "colab": {
          "base_uri": "https://localhost:8080/"
        }
      },
      "outputs": [
        {
          "output_type": "stream",
          "name": "stdout",
          "text": [
            "PyTorch version: 2.2.1+cu121\n",
            "torchaudio version: 2.2.1+cu121\n",
            "PyTube version: 15.0.0\n"
          ]
        }
      ],
      "source": [
        "import torch\n",
        "import torchaudio\n",
        "print(f\"PyTorch version: {torch.__version__}\")\n",
        "print(f\"torchaudio version: {torchaudio.__version__}\")\n",
        "\n",
        "try:\n",
        "  import pytube\n",
        "  print(f\"PyTube version: {pytube.__version__}\")\n",
        "except:\n",
        "  !pip install pytube\n",
        "  import pytube\n",
        "  print(f\"PyTube version: {pytube.__version__}\")"
      ]
    },
    {
      "cell_type": "markdown",
      "source": [
        "## Downloading from YouTube\n",
        "\n",
        "We first define a function to download audio from any given YouTube URL using `pytube`."
      ],
      "metadata": {
        "id": "easMLuk31IlO"
      }
    },
    {
      "cell_type": "code",
      "source": [],
      "metadata": {
        "id": "nGa8sjk41ZUS"
      },
      "execution_count": null,
      "outputs": []
    }
  ]
}